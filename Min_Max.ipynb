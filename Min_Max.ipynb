{
 "cells": [
  {
   "cell_type": "code",
   "execution_count": 28,
   "id": "96521532-fe91-4334-b845-32b8345b1fe4",
   "metadata": {},
   "outputs": [],
   "source": [
    "import pandas as pd\n",
    "import glob"
   ]
  },
  {
   "cell_type": "code",
   "execution_count": 29,
   "id": "f71e3d04-bad1-41c4-8bca-80ca5f81dd24",
   "metadata": {},
   "outputs": [],
   "source": [
    "# List to hold all the data for each rack\n",
    "combined_data = []"
   ]
  },
  {
   "cell_type": "code",
   "execution_count": null,
   "id": "c01d7644-b149-4a0b-8e41-6f0a74e6223c",
   "metadata": {},
   "outputs": [],
   "source": [
    "# Iterate over rack numbers from 1 to 20\n",
    "for rack_num in range(1, 21):\n",
    "    # Path to your CSV files for the current rack (adjust the path format as necessary)\n",
    "    csv_files_path = f\"Rack_{rack_num}.csv\"\n",
    "\n",
    "    #Code Analysis/Random Forest_CV/Rack 14_RMD/R14_ 1-4July.xlsx\n",
    "    #Code Analysis/AdaBoast_CRV/AdaBoast/Rack_{rack_num}_ADA.csv\n",
    "    \n",
    "    # Get a list of all CSV files for the current rack\n",
    "    csv_files = glob.glob(csv_files_path)\n",
    "\n",
    "    # Dictionary to store min and max R-squared values and their corresponding DayOfYear for each sensor\n",
    "    r_squared_stats = []\n",
    "\n",
    "    # Iterate through each file\n",
    "    for file in csv_files:\n",
    "        # Read the CSV file\n",
    "        df = pd.read_csv(file)\n",
    "        \n",
    "        # Group by 'Sensor' and find the min and max of 'R-squared' along with DayOfYear\n",
    "        for sensor, group in df.groupby('Sensor'):\n",
    "            # Find row with minimum R-squared\n",
    "            min_r_squared_row = group.loc[group['R-squared'].idxmin()]\n",
    "            # Find row with maximum R-squared\n",
    "            max_r_squared_row = group.loc[group['R-squared'].idxmax()]\n",
    "\n",
    "            # Store the results in a list of dictionaries\n",
    "            r_squared_stats.append({\n",
    "                'Rack': rack_num,  # Add the rack number to keep track of data origin\n",
    "                'Sensor': sensor,\n",
    "                'Min R-squared': min_r_squared_row['R-squared'],\n",
    "                'Min DayOfYear': min_r_squared_row['DayOfYear'],\n",
    "                'Max R-squared': max_r_squared_row['R-squared'],\n",
    "                'Max DayOfYear': max_r_squared_row['DayOfYear']\n",
    "            })\n",
    "\n",
    "    # Append the data from this rack to the combined data list\n",
    "    combined_data.extend(r_squared_stats)"
   ]
  },
  {
   "cell_type": "code",
   "execution_count": null,
   "id": "345c67e7-6f30-40a9-9ca5-75ea19c98f08",
   "metadata": {},
   "outputs": [],
   "source": [
    "# Convert the combined data into a single DataFrame\n",
    "combined_df = pd.DataFrame(combined_data)\n",
    "# Write the combined DataFrame to a single CSV file\n",
    "combined_df.to_csv(\"file_path\")"
   ]
  }
 ],
 "metadata": {
  "kernelspec": {
   "display_name": "Python 3",
   "language": "python",
   "name": "python3"
  },
  "language_info": {
   "codemirror_mode": {
    "name": "ipython",
    "version": 3
   },
   "file_extension": ".py",
   "mimetype": "text/x-python",
   "name": "python",
   "nbconvert_exporter": "python",
   "pygments_lexer": "ipython3",
   "version": "3.11.5"
  }
 },
 "nbformat": 4,
 "nbformat_minor": 5
}
