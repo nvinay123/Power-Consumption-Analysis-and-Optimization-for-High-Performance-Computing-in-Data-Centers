{
 "cells": [
  {
   "cell_type": "code",
   "execution_count": null,
   "id": "629aa665-701e-4093-9f99-36731a6c03f7",
   "metadata": {},
   "outputs": [],
   "source": [
    "import pandas as pd\n",
    "import matplotlib.pyplot as plt\n",
    "import glob\n",
    "import matplotlib.cm as cm\n",
    "\n",
    "# Set the path where all your CSV files are stored\n",
    "path = ''  # Update this with your actual path\n",
    "sensor_name = ''  # Update this with the specific sensor name\n",
    "\n",
    "# Get all CSV files in the directory\n",
    "csv_files = glob.glob(path + \"*.csv\")\n",
    "\n",
    "# Create a dictionary to store R-squared values for each rack\n",
    "r_squared_values = {}"
   ]
  },
  {
   "cell_type": "code",
   "execution_count": 5,
   "id": "fb225555-00f1-4332-9b5e-fc87d6bd1d7d",
   "metadata": {},
   "outputs": [],
   "source": [
    "# Loop through each file (each represents a rack)\n",
    "for file in csv_files:\n",
    "    # Read the CSV file\n",
    "    df = pd.read_csv(file)\n",
    "    \n",
    "    # Filter data for the selected sensor\n",
    "    sensor_data = df[df['Sensor'] == sensor_name]\n",
    "    \n",
    "    # Store the R-squared values indexed by 'DayOfYear'\n",
    "    r_squared_values[file] = sensor_data[['DayOfYear', 'R-squared']]\n",
    "\n"
   ]
  },
  {
   "cell_type": "code",
   "execution_count": null,
   "id": "939da43e-a9c6-48e3-86fb-c0aff240b0a9",
   "metadata": {},
   "outputs": [],
   "source": [
    "# Set a colormap and define colors for each line\n",
    "cmap = plt.cm.get_cmap('tab20')  # You can use 'tab10', 'viridis', 'plasma', etc.\n",
    "\n",
    "plt.figure(figsize=(10, 6))\n",
    "\n",
    "# Loop through the data and assign distinct colors and markers\n",
    "for i, (rack, data) in enumerate(r_squared_values.items()):\n",
    "    plt.plot(data['DayOfYear'], data['R-squared'], label=rack.split('/')[-1], \n",
    "             color=cmap(i), linewidth=2, marker='o')  # Add markers and thicker lines\n",
    "\n",
    "# Customize the plot\n",
    "plt.xlabel('Day of Year (July)')\n",
    "plt.ylabel('R-squared Value')\n",
    "plt.title(f'R-squared Values for Sensor: {sensor_name} across all Racks')\n",
    "\n",
    "# Place the legend outside the plot\n",
    "plt.legend(loc='best', bbox_to_anchor=(1.05, 1), fontsize='small')  \n",
    "\n",
    "plt.grid(True)\n",
    "plt.tight_layout()\n",
    "plt.show()"
   ]
  }
 ],
 "metadata": {
  "kernelspec": {
   "display_name": "Python 3 (ipykernel)",
   "language": "python",
   "name": "python3"
  },
  "language_info": {
   "codemirror_mode": {
    "name": "ipython",
    "version": 3
   },
   "file_extension": ".py",
   "mimetype": "text/x-python",
   "name": "python",
   "nbconvert_exporter": "python",
   "pygments_lexer": "ipython3",
   "version": "3.11.5"
  }
 },
 "nbformat": 4,
 "nbformat_minor": 5
}
